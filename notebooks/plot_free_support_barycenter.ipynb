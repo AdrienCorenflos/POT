{
 "cells": [
  {
   "cell_type": "code",
   "execution_count": 1,
   "metadata": {
    "collapsed": false
   },
   "outputs": [],
   "source": [
    "%matplotlib inline"
   ]
  },
  {
   "cell_type": "markdown",
   "metadata": {},
   "source": [
    "\n",
    "# 2D free support Wasserstein barycenters of distributions\n",
    "\n",
    "\n",
    "Illustration of 2D Wasserstein barycenters if discributions that are weighted\n",
    "sum of diracs.\n",
    "\n",
    "\n"
   ]
  },
  {
   "cell_type": "code",
   "execution_count": 2,
   "metadata": {
    "collapsed": false
   },
   "outputs": [],
   "source": [
    "# Author: Vivien Seguy <vivien.seguy@iip.ist.i.kyoto-u.ac.jp>\n",
    "#\n",
    "# License: MIT License\n",
    "\n",
    "import numpy as np\n",
    "import matplotlib.pylab as pl\n",
    "import ot"
   ]
  },
  {
   "cell_type": "markdown",
   "metadata": {},
   "source": [
    "Generate data\n",
    " -------------\n",
    "%% parameters and data generation\n",
    "\n"
   ]
  },
  {
   "cell_type": "code",
   "execution_count": 3,
   "metadata": {
    "collapsed": false
   },
   "outputs": [],
   "source": [
    "N = 3\n",
    "d = 2\n",
    "measures_locations = []\n",
    "measures_weights = []\n",
    "\n",
    "for i in range(N):\n",
    "\n",
    "    n_i = np.random.randint(low=1, high=20)  # nb samples\n",
    "\n",
    "    mu_i = np.random.normal(0., 4., (d,))  # Gaussian mean\n",
    "\n",
    "    A_i = np.random.rand(d, d)\n",
    "    cov_i = np.dot(A_i, A_i.transpose())  # Gaussian covariance matrix\n",
    "\n",
    "    x_i = ot.datasets.make_2D_samples_gauss(n_i, mu_i, cov_i)  # Dirac locations\n",
    "    b_i = np.random.uniform(0., 1., (n_i,))\n",
    "    b_i = b_i / np.sum(b_i)  # Dirac weights\n",
    "\n",
    "    measures_locations.append(x_i)\n",
    "    measures_weights.append(b_i)"
   ]
  },
  {
   "cell_type": "markdown",
   "metadata": {},
   "source": [
    "Compute free support barycenter\n",
    "-------------\n",
    "\n"
   ]
  },
  {
   "cell_type": "code",
   "execution_count": 4,
   "metadata": {
    "collapsed": false
   },
   "outputs": [],
   "source": [
    "k = 10  # number of Diracs of the barycenter\n",
    "X_init = np.random.normal(0., 1., (k, d))  # initial Dirac locations\n",
    "b = np.ones((k,)) / k  # weights of the barycenter (it will not be optimized, only the locations are optimized)\n",
    "\n",
    "X = ot.lp.free_support_barycenter(measures_locations, measures_weights, X_init, b)"
   ]
  },
  {
   "cell_type": "markdown",
   "metadata": {},
   "source": [
    "Plot data\n",
    "---------\n",
    "\n"
   ]
  },
  {
   "cell_type": "code",
   "execution_count": 5,
   "metadata": {
    "collapsed": false
   },
   "outputs": [
    {
     "data": {
      "image/png": "[encoded data removed]",
      "text/plain": [
       "<Figure size 432x288 with 1 Axes>"
      ]
     },
     "metadata": {
      "needs_background": "light"
     },
     "output_type": "display_data"
    }
   ],
   "source": [
    "pl.figure(1)\n",
    "for (x_i, b_i) in zip(measures_locations, measures_weights):\n",
    "    color = np.random.randint(low=1, high=10 * N)\n",
    "    pl.scatter(x_i[:, 0], x_i[:, 1], s=b_i * 1000, label='input measure')\n",
    "pl.scatter(X[:, 0], X[:, 1], s=b * 1000, c='black', marker='^', label='2-Wasserstein barycenter')\n",
    "pl.title('Data measures and their barycenter')\n",
    "pl.legend(loc=0)\n",
    "pl.show()"
   ]
  }
 ],
 "metadata": {
  "kernelspec": {
   "display_name": "Python 3",
   "language": "python",
   "name": "python3"
  },
  "language_info": {
   "codemirror_mode": {
    "name": "ipython",
    "version": 3
   },
   "file_extension": ".py",
   "mimetype": "text/x-python",
   "name": "python",
   "nbconvert_exporter": "python",
   "pygments_lexer": "ipython3",
   "version": "3.6.9"
  }
 },
 "nbformat": 4,
 "nbformat_minor": 0
}
