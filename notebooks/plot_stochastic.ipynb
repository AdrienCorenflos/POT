{
 "cells": [
  {
   "cell_type": "code",
   "execution_count": 1,
   "metadata": {
    "collapsed": false
   },
   "outputs": [],
   "source": [
    "%matplotlib inline"
   ]
  },
  {
   "cell_type": "markdown",
   "metadata": {},
   "source": [
    "\n",
    "# Stochastic examples\n",
    "\n",
    "\n",
    "This example is designed to show how to use the stochatic optimization\n",
    "algorithms for descrete and semicontinous measures from the POT library.\n",
    "\n",
    "\n"
   ]
  },
  {
   "cell_type": "code",
   "execution_count": 2,
   "metadata": {
    "collapsed": false
   },
   "outputs": [],
   "source": [
    "# Author: Kilian Fatras <kilian.fatras@gmail.com>\n",
    "#\n",
    "# License: MIT License\n",
    "\n",
    "import matplotlib.pylab as pl\n",
    "import numpy as np\n",
    "import ot\n",
    "import ot.plot"
   ]
  },
  {
   "cell_type": "markdown",
   "metadata": {},
   "source": [
    "COMPUTE TRANSPORTATION MATRIX FOR SEMI-DUAL PROBLEM\n",
    "############################################################################\n",
    "############################################################################\n",
    " DISCRETE CASE:\n",
    "\n",
    " Sample two discrete measures for the discrete case\n",
    " ---------------------------------------------\n",
    "\n",
    " Define 2 discrete measures a and b, the points where are defined the source\n",
    " and the target measures and finally the cost matrix c.\n",
    "\n"
   ]
  },
  {
   "cell_type": "code",
   "execution_count": 3,
   "metadata": {
    "collapsed": false
   },
   "outputs": [],
   "source": [
    "n_source = 7\n",
    "n_target = 4\n",
    "reg = 1\n",
    "numItermax = 1000\n",
    "\n",
    "a = ot.utils.unif(n_source)\n",
    "b = ot.utils.unif(n_target)\n",
    "\n",
    "rng = np.random.RandomState(0)\n",
    "X_source = rng.randn(n_source, 2)\n",
    "Y_target = rng.randn(n_target, 2)\n",
    "M = ot.dist(X_source, Y_target)"
   ]
  },
  {
   "cell_type": "markdown",
   "metadata": {},
   "source": [
    "Call the \"SAG\" method to find the transportation matrix in the discrete case\n",
    "---------------------------------------------\n",
    "\n",
    "Define the method \"SAG\", call ot.solve_semi_dual_entropic and plot the\n",
    "results.\n",
    "\n"
   ]
  },
  {
   "cell_type": "code",
   "execution_count": 4,
   "metadata": {
    "collapsed": false
   },
   "outputs": [
    {
     "name": "stdout",
     "output_type": "stream",
     "text": [
      "[[2.55553509e-02 9.96395660e-02 1.76579142e-02 4.31178196e-06]\n",
      " [1.21640234e-01 1.25357448e-02 1.30225078e-03 7.37891338e-03]\n",
      " [3.56123975e-03 7.61451746e-02 6.31505947e-02 1.33831456e-07]\n",
      " [2.61515202e-02 3.34246014e-02 8.28734709e-02 4.07550428e-04]\n",
      " [9.85500870e-03 7.52288517e-04 1.08262628e-02 1.21423583e-01]\n",
      " [2.16904253e-02 9.03825797e-04 1.87178503e-03 1.18391107e-01]\n",
      " [4.15462212e-02 2.65987989e-02 7.23177216e-02 2.39440107e-03]]\n"
     ]
    }
   ],
   "source": [
    "method = \"SAG\"\n",
    "sag_pi = ot.stochastic.solve_semi_dual_entropic(a, b, M, reg, method,\n",
    "                                                numItermax)\n",
    "print(sag_pi)"
   ]
  },
  {
   "cell_type": "markdown",
   "metadata": {},
   "source": [
    "SEMICONTINOUS CASE:\n",
    "\n",
    "Sample one general measure a, one discrete measures b for the semicontinous\n",
    "case\n",
    "---------------------------------------------\n",
    "\n",
    "Define one general measure a, one discrete measures b, the points where\n",
    "are defined the source and the target measures and finally the cost matrix c.\n",
    "\n"
   ]
  },
  {
   "cell_type": "code",
   "execution_count": 5,
   "metadata": {
    "collapsed": false
   },
   "outputs": [],
   "source": [
    "n_source = 7\n",
    "n_target = 4\n",
    "reg = 1\n",
    "numItermax = 1000\n",
    "log = True\n",
    "\n",
    "a = ot.utils.unif(n_source)\n",
    "b = ot.utils.unif(n_target)\n",
    "\n",
    "rng = np.random.RandomState(0)\n",
    "X_source = rng.randn(n_source, 2)\n",
    "Y_target = rng.randn(n_target, 2)\n",
    "M = ot.dist(X_source, Y_target)"
   ]
  },
  {
   "cell_type": "markdown",
   "metadata": {},
   "source": [
    "Call the \"ASGD\" method to find the transportation matrix in the semicontinous\n",
    "case\n",
    "---------------------------------------------\n",
    "\n",
    "Define the method \"ASGD\", call ot.solve_semi_dual_entropic and plot the\n",
    "results.\n",
    "\n"
   ]
  },
  {
   "cell_type": "code",
   "execution_count": 6,
   "metadata": {
    "collapsed": false
   },
   "outputs": [
    {
     "name": "stdout",
     "output_type": "stream",
     "text": [
      "[3.7937628  7.65961287 3.80848103 2.58141742 1.61215093 3.44897695\n",
      " 2.71747327] [-2.52391608 -2.29387992 -0.82558991  5.64338591]\n",
      "[[2.21553327e-02 1.03145567e-01 1.75528576e-02 3.38501746e-06]\n",
      " [1.20021720e-01 1.47691349e-02 1.47329335e-03 6.59299438e-03]\n",
      " [3.04838905e-03 7.78276435e-02 6.19810066e-02 1.03737333e-07]\n",
      " [2.31393025e-02 3.53135903e-02 8.40777056e-02 3.26544498e-04]\n",
      " [1.05758118e-02 9.63969840e-04 1.33213201e-02 1.17996041e-01]\n",
      " [2.34525044e-02 1.16688539e-03 2.32054035e-03 1.15917213e-01]\n",
      " [3.74708983e-02 2.86448739e-02 7.47858286e-02 1.95554208e-03]]\n"
     ]
    }
   ],
   "source": [
    "method = \"ASGD\"\n",
    "asgd_pi, log_asgd = ot.stochastic.solve_semi_dual_entropic(a, b, M, reg, method,\n",
    "                                                           numItermax, log=log)\n",
    "print(log_asgd['alpha'], log_asgd['beta'])\n",
    "print(asgd_pi)"
   ]
  },
  {
   "cell_type": "markdown",
   "metadata": {},
   "source": [
    "Compare the results with the Sinkhorn algorithm\n",
    "---------------------------------------------\n",
    "\n",
    "Call the Sinkhorn algorithm from POT\n",
    "\n"
   ]
  },
  {
   "cell_type": "code",
   "execution_count": 7,
   "metadata": {
    "collapsed": false
   },
   "outputs": [
    {
     "name": "stdout",
     "output_type": "stream",
     "text": [
      "[[2.55553508e-02 9.96395661e-02 1.76579142e-02 4.31178193e-06]\n",
      " [1.21640234e-01 1.25357448e-02 1.30225079e-03 7.37891333e-03]\n",
      " [3.56123974e-03 7.61451746e-02 6.31505947e-02 1.33831455e-07]\n",
      " [2.61515201e-02 3.34246014e-02 8.28734709e-02 4.07550425e-04]\n",
      " [9.85500876e-03 7.52288523e-04 1.08262629e-02 1.21423583e-01]\n",
      " [2.16904255e-02 9.03825804e-04 1.87178504e-03 1.18391107e-01]\n",
      " [4.15462212e-02 2.65987989e-02 7.23177217e-02 2.39440105e-03]]\n"
     ]
    }
   ],
   "source": [
    "sinkhorn_pi = ot.sinkhorn(a, b, M, reg)\n",
    "print(sinkhorn_pi)"
   ]
  },
  {
   "cell_type": "markdown",
   "metadata": {},
   "source": [
    "PLOT TRANSPORTATION MATRIX\n",
    "#############################################################################\n",
    "\n"
   ]
  },
  {
   "cell_type": "markdown",
   "metadata": {},
   "source": [
    "Plot SAG results\n",
    "----------------\n",
    "\n"
   ]
  },
  {
   "cell_type": "code",
   "execution_count": 8,
   "metadata": {
    "collapsed": false
   },
   "outputs": [
    {
     "data": {
      "image/png": "[encoded data removed]",
      "text/plain": [
       "<Figure size 360x360 with 3 Axes>"
      ]
     },
     "metadata": {
      "needs_background": "light"
     },
     "output_type": "display_data"
    }
   ],
   "source": [
    "pl.figure(4, figsize=(5, 5))\n",
    "ot.plot.plot1D_mat(a, b, sag_pi, 'semi-dual : OT matrix SAG')\n",
    "pl.show()"
   ]
  },
  {
   "cell_type": "markdown",
   "metadata": {},
   "source": [
    "Plot ASGD results\n",
    "-----------------\n",
    "\n"
   ]
  },
  {
   "cell_type": "code",
   "execution_count": 9,
   "metadata": {
    "collapsed": false
   },
   "outputs": [
    {
     "data": {
      "image/png": "[encoded data removed]",
      "text/plain": [
       "<Figure size 360x360 with 3 Axes>"
      ]
     },
     "metadata": {
      "needs_background": "light"
     },
     "output_type": "display_data"
    }
   ],
   "source": [
    "pl.figure(4, figsize=(5, 5))\n",
    "ot.plot.plot1D_mat(a, b, asgd_pi, 'semi-dual : OT matrix ASGD')\n",
    "pl.show()"
   ]
  },
  {
   "cell_type": "markdown",
   "metadata": {},
   "source": [
    "Plot Sinkhorn results\n",
    "---------------------\n",
    "\n"
   ]
  },
  {
   "cell_type": "code",
   "execution_count": 10,
   "metadata": {
    "collapsed": false
   },
   "outputs": [
    {
     "data": {
      "image/png": "[encoded data removed]",
      "text/plain": [
       "<Figure size 360x360 with 3 Axes>"
      ]
     },
     "metadata": {
      "needs_background": "light"
     },
     "output_type": "display_data"
    }
   ],
   "source": [
    "pl.figure(4, figsize=(5, 5))\n",
    "ot.plot.plot1D_mat(a, b, sinkhorn_pi, 'OT matrix Sinkhorn')\n",
    "pl.show()"
   ]
  },
  {
   "cell_type": "markdown",
   "metadata": {},
   "source": [
    "COMPUTE TRANSPORTATION MATRIX FOR DUAL PROBLEM\n",
    "############################################################################\n",
    "############################################################################\n",
    " SEMICONTINOUS CASE:\n",
    "\n",
    " Sample one general measure a, one discrete measures b for the semicontinous\n",
    " case\n",
    " ---------------------------------------------\n",
    "\n",
    " Define one general measure a, one discrete measures b, the points where\n",
    " are defined the source and the target measures and finally the cost matrix c.\n",
    "\n"
   ]
  },
  {
   "cell_type": "code",
   "execution_count": 11,
   "metadata": {
    "collapsed": false
   },
   "outputs": [],
   "source": [
    "n_source = 7\n",
    "n_target = 4\n",
    "reg = 1\n",
    "numItermax = 100000\n",
    "lr = 0.1\n",
    "batch_size = 3\n",
    "log = True\n",
    "\n",
    "a = ot.utils.unif(n_source)\n",
    "b = ot.utils.unif(n_target)\n",
    "\n",
    "rng = np.random.RandomState(0)\n",
    "X_source = rng.randn(n_source, 2)\n",
    "Y_target = rng.randn(n_target, 2)\n",
    "M = ot.dist(X_source, Y_target)"
   ]
  },
  {
   "cell_type": "markdown",
   "metadata": {},
   "source": [
    "Call the \"SGD\" dual method to find the transportation matrix in the\n",
    "semicontinous case\n",
    "---------------------------------------------\n",
    "\n",
    "Call ot.solve_dual_entropic and plot the results.\n",
    "\n"
   ]
  },
  {
   "cell_type": "code",
   "execution_count": 12,
   "metadata": {
    "collapsed": false
   },
   "outputs": [
    {
     "name": "stdout",
     "output_type": "stream",
     "text": [
      "[0.91323163 2.78641673 1.06629943 0.01804936 0.61062914 1.81958274\n",
      " 0.11217916] [0.34004858 0.48129361 1.57541501 4.92963099]\n",
      "[[2.17913197e-02 9.28312769e-02 1.08665637e-02 9.30212767e-08]\n",
      " [1.60939150e-02 1.81215529e-03 1.24345544e-04 2.47002125e-05]\n",
      " [3.44318299e-03 8.04381532e-02 4.40643612e-02 3.27371535e-09]\n",
      " [3.12534315e-02 4.36443287e-02 7.14771848e-02 1.23227019e-05]\n",
      " [6.81023930e-02 5.68002968e-03 5.39927027e-02 2.12291313e-02]\n",
      " [8.06039569e-02 3.66972769e-03 5.01990391e-03 1.11309234e-02]\n",
      " [4.85325711e-02 3.39488142e-02 6.09673962e-02 7.07656480e-05]]\n"
     ]
    }
   ],
   "source": [
    "sgd_dual_pi, log_sgd = ot.stochastic.solve_dual_entropic(a, b, M, reg,\n",
    "                                                         batch_size, numItermax,\n",
    "                                                         lr, log=log)\n",
    "print(log_sgd['alpha'], log_sgd['beta'])\n",
    "print(sgd_dual_pi)"
   ]
  },
  {
   "cell_type": "markdown",
   "metadata": {},
   "source": [
    "Compare the results with the Sinkhorn algorithm\n",
    "---------------------------------------------\n",
    "\n",
    "Call the Sinkhorn algorithm from POT\n",
    "\n"
   ]
  },
  {
   "cell_type": "code",
   "execution_count": 13,
   "metadata": {
    "collapsed": false
   },
   "outputs": [
    {
     "name": "stdout",
     "output_type": "stream",
     "text": [
      "[[2.55553508e-02 9.96395661e-02 1.76579142e-02 4.31178193e-06]\n",
      " [1.21640234e-01 1.25357448e-02 1.30225079e-03 7.37891333e-03]\n",
      " [3.56123974e-03 7.61451746e-02 6.31505947e-02 1.33831455e-07]\n",
      " [2.61515201e-02 3.34246014e-02 8.28734709e-02 4.07550425e-04]\n",
      " [9.85500876e-03 7.52288523e-04 1.08262629e-02 1.21423583e-01]\n",
      " [2.16904255e-02 9.03825804e-04 1.87178504e-03 1.18391107e-01]\n",
      " [4.15462212e-02 2.65987989e-02 7.23177217e-02 2.39440105e-03]]\n"
     ]
    }
   ],
   "source": [
    "sinkhorn_pi = ot.sinkhorn(a, b, M, reg)\n",
    "print(sinkhorn_pi)"
   ]
  },
  {
   "cell_type": "markdown",
   "metadata": {},
   "source": [
    "Plot  SGD results\n",
    "-----------------\n",
    "\n"
   ]
  },
  {
   "cell_type": "code",
   "execution_count": 14,
   "metadata": {
    "collapsed": false
   },
   "outputs": [
    {
     "data": {
      "image/png": "[encoded data removed]",
      "text/plain": [
       "<Figure size 360x360 with 3 Axes>"
      ]
     },
     "metadata": {
      "needs_background": "light"
     },
     "output_type": "display_data"
    }
   ],
   "source": [
    "pl.figure(4, figsize=(5, 5))\n",
    "ot.plot.plot1D_mat(a, b, sgd_dual_pi, 'dual : OT matrix SGD')\n",
    "pl.show()"
   ]
  },
  {
   "cell_type": "markdown",
   "metadata": {},
   "source": [
    "Plot Sinkhorn results\n",
    "---------------------\n",
    "\n"
   ]
  },
  {
   "cell_type": "code",
   "execution_count": 15,
   "metadata": {
    "collapsed": false
   },
   "outputs": [
    {
     "data": {
      "image/png": "[encoded data removed]",
      "text/plain": [
       "<Figure size 360x360 with 3 Axes>"
      ]
     },
     "metadata": {
      "needs_background": "light"
     },
     "output_type": "display_data"
    }
   ],
   "source": [
    "pl.figure(4, figsize=(5, 5))\n",
    "ot.plot.plot1D_mat(a, b, sinkhorn_pi, 'OT matrix Sinkhorn')\n",
    "pl.show()"
   ]
  }
 ],
 "metadata": {
  "kernelspec": {
   "display_name": "Python 3",
   "language": "python",
   "name": "python3"
  },
  "language_info": {
   "codemirror_mode": {
    "name": "ipython",
    "version": 3
   },
   "file_extension": ".py",
   "mimetype": "text/x-python",
   "name": "python",
   "nbconvert_exporter": "python",
   "pygments_lexer": "ipython3",
   "version": "3.6.9"
  }
 },
 "nbformat": 4,
 "nbformat_minor": 0
}
